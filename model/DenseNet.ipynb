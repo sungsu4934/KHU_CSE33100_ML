{
 "cells": [
  {
   "cell_type": "markdown",
   "metadata": {
    "id": "3vNLbsjM9Ehu"
   },
   "source": [
    "## CAUTION\n",
    "\n",
    "- You can change **only** the **[Define Model](#scrollTo=9ViRr0JT84C7)**, **[Train Model](#scrollTo=NSFY5dyOm-qA)** and **[Hyperparameters](#scrollTo=Pv-hIWaJomEf)** sections. (You can also change test transform part in eval cell)\n",
    "- You can use any kind of deep neural networks and apply any optimization techniques to improve the performance.\n",
    "- You can't use imagenet pretrained model and extra datasets. (***USE only given dataset***)"
   ]
  },
  {
   "cell_type": "code",
   "execution_count": null,
   "metadata": {
    "colab": {
     "base_uri": "https://localhost:8080/"
    },
    "executionInfo": {
     "elapsed": 19259,
     "status": "ok",
     "timestamp": 1624668702254,
     "user": {
      "displayName": "‍김성수[학생](공과대학 산업경영공학과)",
      "photoUrl": "",
      "userId": "14488281223583600094"
     },
     "user_tz": -540
    },
    "id": "g0GlIuz18vuL",
    "outputId": "47f844b2-3994-479f-c046-18700119b4b7"
   },
   "outputs": [],
   "source": [
    "from google.colab import drive\n",
    "\n",
    "# Accessing My Google Drive\n",
    "drive.mount('/content/drive')"
   ]
  },
  {
   "cell_type": "markdown",
   "metadata": {
    "id": "ytAIwMpHDoFx"
   },
   "source": [
    "## Unzip dataset on runtime session"
   ]
  },
  {
   "cell_type": "code",
   "execution_count": null,
   "metadata": {
    "colab": {
     "base_uri": "https://localhost:8080/"
    },
    "executionInfo": {
     "elapsed": 63482,
     "status": "ok",
     "timestamp": 1624668768385,
     "user": {
      "displayName": "‍김성수[학생](공과대학 산업경영공학과)",
      "photoUrl": "",
      "userId": "14488281223583600094"
     },
     "user_tz": -540
    },
    "id": "pGfZJQqFDuEF",
    "outputId": "400ac9d3-b1fd-46df-8bc4-26fd53b08e93"
   },
   "outputs": [],
   "source": [
    "!unzip '/content/drive/My Drive/CSE331_ML_Project/dataset.zip'"
   ]
  },
  {
   "cell_type": "markdown",
   "metadata": {
    "id": "1CDgUpDcmq6-"
   },
   "source": [
    "## utils"
   ]
  },
  {
   "cell_type": "code",
   "execution_count": null,
   "metadata": {
    "executionInfo": {
     "elapsed": 367,
     "status": "ok",
     "timestamp": 1624668796771,
     "user": {
      "displayName": "‍김성수[학생](공과대학 산업경영공학과)",
      "photoUrl": "",
      "userId": "14488281223583600094"
     },
     "user_tz": -540
    },
    "id": "aw4uo1CL9M7j"
   },
   "outputs": [],
   "source": [
    "class AverageMeter(object):\n",
    "    r\"\"\"Computes and stores the average and current value\n",
    "    \"\"\"\n",
    "    def __init__(self, name, fmt=':f'):\n",
    "        self.name = name\n",
    "        self.fmt = fmt\n",
    "        self.reset()\n",
    "\n",
    "    def reset(self):\n",
    "        self.val = 0\n",
    "        self.avg = 0\n",
    "        self.sum = 0\n",
    "        self.count = 0\n",
    "\n",
    "    def update(self, val, n=1):\n",
    "        self.val = val\n",
    "        self.sum += val * n\n",
    "        self.count += n\n",
    "        self.avg = self.sum / self.count\n",
    "\n",
    "    def __str__(self):\n",
    "        fmtstr = '{name} {val' + self.fmt + '} ({avg' + self.fmt + '})'\n",
    "        return fmtstr.format(**self.__dict__)\n",
    "\n",
    "\n",
    "class ProgressMeter(object):\n",
    "    def __init__(self, num_batches, *meters, prefix=\"\"):\n",
    "        self.batch_fmtstr = self._get_batch_fmtstr(num_batches)\n",
    "        self.meters = meters\n",
    "        self.prefix = prefix\n",
    "\n",
    "    def print(self, batch):\n",
    "        entries = [self.prefix + self.batch_fmtstr.format(batch)]\n",
    "        entries += [str(meter) for meter in self.meters]\n",
    "        print('\\t'.join(entries))\n",
    "\n",
    "    def _get_batch_fmtstr(self, num_batches):\n",
    "        num_digits = len(str(num_batches // 1))\n",
    "        fmt = '{:' + str(num_digits) + 'd}'\n",
    "        return '[' + fmt + '/' + fmt.format(num_batches) + ']'\n",
    "\n",
    "\n",
    "def accuracy(output, target, topk=(1,)):\n",
    "    r\"\"\"Computes the accuracy over the $k$ top predictions for the specified values of k\n",
    "    \"\"\"\n",
    "    with torch.no_grad():\n",
    "        maxk = max(topk)\n",
    "        batch_size = target.size(0)\n",
    "\n",
    "        # _, pred = output.topk(maxk, 1, True, True)\n",
    "        # pred = pred.t()\n",
    "        # correct = pred.eq(target.view(1, -1).expand_as(pred))\n",
    "\n",
    "        # faster topk (ref: https://github.com/pytorch/pytorch/issues/22812)\n",
    "        _, idx = output.sort(descending=True)\n",
    "        pred = idx[:,:maxk]\n",
    "        pred = pred.t()\n",
    "        correct = pred.eq(target.view(1, -1).expand_as(pred))\n",
    "\n",
    "        res = []\n",
    "\n",
    "        for k in topk:\n",
    "            correct_k = correct[:k].reshape(-1).float().sum(0, keepdim=True)\n",
    "            res.append(correct_k.mul_(100.0 / batch_size))\n",
    "        return res"
   ]
  },
  {
   "cell_type": "markdown",
   "metadata": {
    "id": "_SxkjBIxolsm"
   },
   "source": [
    "## Hyperparameters"
   ]
  },
  {
   "cell_type": "code",
   "execution_count": null,
   "metadata": {
    "executionInfo": {
     "elapsed": 2,
     "status": "ok",
     "timestamp": 1624668797132,
     "user": {
      "displayName": "‍김성수[학생](공과대학 산업경영공학과)",
      "photoUrl": "",
      "userId": "14488281223583600094"
     },
     "user_tz": -540
    },
    "id": "Pv-hIWaJomEf"
   },
   "outputs": [],
   "source": [
    "SAVEPATH = '/content/drive/My Drive/CSE331_ML_Project/'\n",
    "WEIGHTDECAY = 5e-4\n",
    "MOMENTUM = 0.9\n",
    "BATCHSIZE = 256\n",
    "LR = 0.5\n",
    "EPOCHS = 200\n",
    "PRINTFREQ = 100\n",
    "NUM_CLASSES = 10\n",
    "GRAYSCALE = 3"
   ]
  },
  {
   "cell_type": "markdown",
   "metadata": {
    "id": "N1MCxs3h84lB"
   },
   "source": [
    "## Define Model"
   ]
  },
  {
   "cell_type": "code",
   "execution_count": null,
   "metadata": {
    "executionInfo": {
     "elapsed": 3922,
     "status": "ok",
     "timestamp": 1624668802180,
     "user": {
      "displayName": "‍김성수[학생](공과대학 산업경영공학과)",
      "photoUrl": "",
      "userId": "14488281223583600094"
     },
     "user_tz": -540
    },
    "id": "xyq5FjvEHLN9"
   },
   "outputs": [],
   "source": [
    "import math\n",
    "import torch.nn as nn\n",
    "import torch.nn.functional as F\n",
    "\n",
    "\n",
    "class Bottleneck(nn.Module):\n",
    "    def __init__(self, in_planes, growth_rate):\n",
    "        super(Bottleneck, self).__init__()\n",
    "        self.bn1 = nn.BatchNorm2d(in_planes)\n",
    "        self.conv1 = nn.Conv2d(in_planes, 4*growth_rate, kernel_size=1, bias=False)\n",
    "        self.bn2 = nn.BatchNorm2d(4*growth_rate)\n",
    "        self.conv2 = nn.Conv2d(4*growth_rate, growth_rate, kernel_size=3, padding=1, bias=False)\n",
    "\n",
    "    def forward(self, x):\n",
    "        out = self.conv1(F.relu(self.bn1(x)))\n",
    "        out = self.conv2(F.relu(self.bn2(out)))\n",
    "        out = torch.cat([out,x], 1)\n",
    "        return out\n",
    "\n",
    "\n",
    "class Transition(nn.Module):\n",
    "    def __init__(self, in_planes, out_planes):\n",
    "        super(Transition, self).__init__()\n",
    "        self.bn = nn.BatchNorm2d(in_planes)\n",
    "        self.conv = nn.Conv2d(in_planes, out_planes, kernel_size=1, bias=False)\n",
    "\n",
    "    def forward(self, x):\n",
    "        out = self.conv(F.relu(self.bn(x)))\n",
    "        out = F.avg_pool2d(out, 2)\n",
    "        return out\n",
    "\n",
    "\n",
    "class DenseNet(nn.Module):\n",
    "    def __init__(self, block, nblocks, growth_rate=12, reduction=0.5, num_classes=10):\n",
    "        super(DenseNet, self).__init__()\n",
    "        self.growth_rate = growth_rate\n",
    "\n",
    "        num_planes = 2*growth_rate\n",
    "        self.conv1 = nn.Conv2d(3, num_planes, kernel_size=3, padding=1, bias=False)\n",
    "\n",
    "        self.dense1 = self._make_dense_layers(block, num_planes, nblocks[0])\n",
    "        num_planes += nblocks[0]*growth_rate\n",
    "        out_planes = int(math.floor(num_planes*reduction))\n",
    "        self.trans1 = Transition(num_planes, out_planes)\n",
    "        num_planes = out_planes\n",
    "\n",
    "        self.dense2 = self._make_dense_layers(block, num_planes, nblocks[1])\n",
    "        num_planes += nblocks[1]*growth_rate\n",
    "        out_planes = int(math.floor(num_planes*reduction))\n",
    "        self.trans2 = Transition(num_planes, out_planes)\n",
    "        num_planes = out_planes\n",
    "\n",
    "        self.dense3 = self._make_dense_layers(block, num_planes, nblocks[2])\n",
    "        num_planes += nblocks[2]*growth_rate\n",
    "        out_planes = int(math.floor(num_planes*reduction))\n",
    "        self.trans3 = Transition(num_planes, out_planes)\n",
    "        num_planes = out_planes\n",
    "\n",
    "        self.dense4 = self._make_dense_layers(block, num_planes, nblocks[3])\n",
    "        num_planes += nblocks[3]*growth_rate\n",
    "\n",
    "        self.bn = nn.BatchNorm2d(num_planes)\n",
    "        self.linear = nn.Linear(num_planes, num_classes)\n",
    "\n",
    "    def _make_dense_layers(self, block, in_planes, nblock):\n",
    "        layers = []\n",
    "        for i in range(nblock):\n",
    "            layers.append(block(in_planes, self.growth_rate))\n",
    "            in_planes += self.growth_rate\n",
    "        return nn.Sequential(*layers)\n",
    "\n",
    "    def forward(self, x):\n",
    "        out = self.conv1(x)\n",
    "        out = self.trans1(self.dense1(out))\n",
    "        out = self.trans2(self.dense2(out))\n",
    "        out = self.trans3(self.dense3(out))\n",
    "        out = self.dense4(out)\n",
    "        out = F.avg_pool2d(F.relu(self.bn(out)), 4)\n",
    "        out = out.view(out.size(0), -1)\n",
    "        out = self.linear(out)\n",
    "        return out\n",
    "# 121\n",
    "def Net():\n",
    "    return DenseNet(Bottleneck, [3,6,6,12], growth_rate=32)\n",
    "# 169\n",
    "#def Net():\n",
    "  #  return DenseNet(Bottleneck, [6,12,32,32], growth_rate=32)\n",
    "# 201\n",
    "#def Net():\n",
    "  #  return DenseNet(Bottleneck, [6,12,48,32], growth_rate=32)\n",
    "# 161\n",
    "#def Net():\n",
    " #   return DenseNet(Bottleneck, [6,12,36,24], growth_rate=48)\n",
    "\n",
    "#def densenet_cifar():\n",
    " #   return DenseNet(Bottleneck, [6,12,24,16], growth_rate=12)"
   ]
  },
  {
   "cell_type": "markdown",
   "metadata": {
    "id": "9y7t4HTSm-9g"
   },
   "source": [
    "## Train Model"
   ]
  },
  {
   "cell_type": "code",
   "execution_count": null,
   "metadata": {
    "colab": {
     "base_uri": "https://localhost:8080/",
     "height": 477
    },
    "executionInfo": {
     "elapsed": 26831,
     "status": "error",
     "timestamp": 1624668832299,
     "user": {
      "displayName": "‍김성수[학생](공과대학 산업경영공학과)",
      "photoUrl": "",
      "userId": "14488281223583600094"
     },
     "user_tz": -540
    },
    "id": "yiGordRmyP-E",
    "outputId": "e5dd3f43-a59d-4f61-c8fe-0dfbca578ffa"
   },
   "outputs": [],
   "source": [
    "import time\n",
    "\n",
    "import torch\n",
    "import torch.nn as nn\n",
    "\n",
    "import torchvision\n",
    "import torchvision.transforms as transforms\n",
    "from torch.utils.data import Dataset, DataLoader\n",
    "\n",
    "\n",
    "def main():\n",
    "    #model = Model()\n",
    "    #model = resnet18(NUM_CLASSES)\n",
    "    model = Net()\n",
    "\n",
    "    ##### optimizer / learning rate scheduler / criterion #####\n",
    "    optimizer = torch.optim.SGD(model.parameters(), lr=LR,\n",
    "                                weight_decay=WEIGHTDECAY, momentum=MOMENTUM, nesterov=True\n",
    "                                )\n",
    "    \n",
    "    #optimizer = torch.optim.Adagrad(model.parameters(), lr=LR,\n",
    "                                #momentum=MOMENTUM, weight_decay=WEIGHTDECAY,\n",
    "                                #nesterov=True)\n",
    "\n",
    "    scheduler = torch.optim.lr_scheduler.MultiStepLR(optimizer, [100, 150],\n",
    "                                                     gamma=0.1)\n",
    "    criterion = torch.nn.CrossEntropyLoss()\n",
    "    ###########################################################\n",
    "\n",
    "    model = model.cuda()\n",
    "    criterion = criterion.cuda()\n",
    "\n",
    "    # Check number of parameters your model\n",
    "    pytorch_total_params = sum(p.numel() for p in model.parameters())\n",
    "    print(f\"Number of parameters: {pytorch_total_params}\")\n",
    "    if int(pytorch_total_params) > 2000000:\n",
    "        print('Your model has the number of parameters more than 2 millions..')\n",
    "        return\n",
    "\n",
    "    normalize = transforms.Normalize(mean=[0.485, 0.456, 0.406],\n",
    "                                     std=[0.229, 0.224, 0.225])\n",
    "    train_transform = transforms.Compose([\n",
    "        transforms.RandomCrop(32, padding=4),\n",
    "        transforms.RandomHorizontalFlip(),\n",
    "        transforms.ToTensor(),\n",
    "        normalize\n",
    "    ])\n",
    "\n",
    "    valid_transform = transforms.Compose([\n",
    "        transforms.ToTensor(),\n",
    "        normalize\n",
    "    ])\n",
    "\n",
    "    train_dataset = torchvision.datasets.ImageFolder(\n",
    "        './train', transform=train_transform)\n",
    "    train_loader = DataLoader(train_dataset,\n",
    "                              batch_size=BATCHSIZE, shuffle=True,\n",
    "                              num_workers=4, pin_memory=True)\n",
    "    \n",
    "    val_dataset = torchvision.datasets.ImageFolder('./valid', transform=valid_transform)\n",
    "\n",
    "    last_top1_acc = 0\n",
    "    for epoch in range(EPOCHS):\n",
    "        print(\"\\n----- epoch: {}, lr: {} -----\".format(\n",
    "            epoch, optimizer.param_groups[0][\"lr\"]))\n",
    "\n",
    "        # train for one epoch\n",
    "        start_time = time.time()\n",
    "        last_top1_acc = train(train_loader, epoch, model, optimizer, criterion)\n",
    "        elapsed_time = time.time() - start_time\n",
    "        print('==> {:.2f} seconds to train this epoch\\n'.format(\n",
    "            elapsed_time))\n",
    "\n",
    "        # learning rate scheduling\n",
    "        scheduler.step()\n",
    "\n",
    "        # Save model each epoch\n",
    "        torch.save(model.state_dict(), SAVEPATH+'model_weight.pth')\n",
    "\n",
    "    print(f\"Last Top-1 Accuracy: {last_top1_acc}\")\n",
    "    print(f\"Number of parameters: {pytorch_total_params}\")\n",
    "\n",
    "\n",
    "\n",
    "def train(train_loader, epoch, model, optimizer, criterion):\n",
    "    batch_time = AverageMeter('Time', ':6.3f')\n",
    "    data_time = AverageMeter('Data', ':6.3f')\n",
    "    losses = AverageMeter('Loss', ':.4e')\n",
    "    top1 = AverageMeter('Acc@1', ':6.2f')\n",
    "    top5 = AverageMeter('Acc@5', ':6.2f')\n",
    "    progress = ProgressMeter(len(train_loader), batch_time, data_time, losses,\n",
    "                             top1, top5, prefix=\"Epoch: [{}]\".format(epoch))\n",
    "    # switch to train mode\n",
    "    model.train()\n",
    "\n",
    "    end = time.time()\n",
    "    for i, (input, target) in enumerate(train_loader):\n",
    "        # measure data loading time\n",
    "        data_time.update(time.time() - end)\n",
    "\n",
    "        input = input.cuda()\n",
    "        target = target.cuda()\n",
    "\n",
    "        # compute output\n",
    "        output = model(input)\n",
    "        loss = criterion(output, target)\n",
    "\n",
    "        # measure accuracy and record loss, accuracy \n",
    "        acc1, acc5 = accuracy(output, target, topk=(1, 5))\n",
    "        losses.update(loss.item(), input.size(0))\n",
    "        top1.update(acc1[0].item(), input.size(0))\n",
    "        top5.update(acc5[0].item(), input.size(0))\n",
    "\n",
    "        # compute gradient and do SGD step\n",
    "        optimizer.zero_grad()\n",
    "        loss.backward()\n",
    "        optimizer.step()\n",
    "\n",
    "        # measure elapsed time\n",
    "        batch_time.update(time.time() - end)\n",
    "        end = time.time()\n",
    "\n",
    "        if i % PRINTFREQ == 0:\n",
    "            progress.print(i)\n",
    "\n",
    "    print('=> Acc@1 {top1.avg:.3f} Acc@5 {top5.avg:.3f}'\n",
    "          .format(top1=top1, top5=top5))\n",
    "    return top1.avg\n",
    "\n",
    "\n",
    "if __name__ == \"__main__\":\n",
    "    main()"
   ]
  },
  {
   "cell_type": "markdown",
   "metadata": {
    "id": "EMzXV6lTykgJ"
   },
   "source": [
    "## Make an evalutation csv file\n",
    "\n",
    "This code makes an evaluation csv file for kaggle submission.\n"
   ]
  },
  {
   "cell_type": "code",
   "execution_count": null,
   "metadata": {
    "colab": {
     "base_uri": "https://localhost:8080/"
    },
    "executionInfo": {
     "elapsed": 30776,
     "status": "ok",
     "timestamp": 1606048530180,
     "user": {
      "displayName": "‍김성수[학생](공과대학 산업경영공학과)",
      "photoUrl": "",
      "userId": "14488281223583600094"
     },
     "user_tz": -540
    },
    "id": "MaUGSOCrAqx9",
    "outputId": "086df8ff-ab9c-4888-f2d6-fbf04577b01a"
   },
   "outputs": [],
   "source": [
    "import torch\n",
    "import pandas as pd\n",
    "import argparse\n",
    "import time\n",
    "import torchvision\n",
    "import torchvision.transforms as transforms\n",
    "from torch.utils.data import Dataset, DataLoader\n",
    "\n",
    "class TestImageFolder(torchvision.datasets.ImageFolder):\n",
    "    def __getitem__(self, index):\n",
    "        # return image path\n",
    "        return super(TestImageFolder, self).__getitem__(index), self.imgs[index][0].split('/')[-1]\n",
    "\n",
    "\n",
    "def eval():\n",
    "    ########## You can change this part only in this cell ##########\n",
    "    normalize = transforms.Normalize(mean=[0.485, 0.456, 0.406],\n",
    "                                     std=[0.229, 0.224, 0.225])\n",
    "    test_transform = transforms.Compose([\n",
    "        transforms.ToTensor(),\n",
    "        normalize\n",
    "    ])\n",
    "    ################################################################\n",
    "\n",
    "    test_dataset = TestImageFolder('./test', transform=test_transform)\n",
    "    test_loader = DataLoader(test_dataset, batch_size=BATCHSIZE, num_workers=4, shuffle=False)\n",
    "\n",
    "    model = resnet18()\n",
    "    model = model.cuda()\n",
    "    model.load_state_dict(torch.load(SAVEPATH+'model_weight.pth'))\n",
    "    model.eval()\n",
    "\n",
    "    print('Make an evaluation csv file for kaggle submission...')\n",
    "    Category = []\n",
    "    Id = []\n",
    "    for data in test_loader:\n",
    "        (input, _), name = data\n",
    "        \n",
    "        input = input.cuda()\n",
    "        output = model(input)\n",
    "        output = torch.argmax(output, dim=1)\n",
    "        Id = Id + list(name)\n",
    "        Category = Category + output.tolist()\n",
    "\n",
    "    #Id = list(range(0, 90000))\n",
    "    samples = {\n",
    "       'Id': Id,\n",
    "       'Target': Category \n",
    "    }\n",
    "    df = pd.DataFrame(samples, columns=['Id', 'Target'])\n",
    "\n",
    "    df.to_csv(SAVEPATH+'submission.csv', index=False)\n",
    "    print('Done!!')\n",
    "\n",
    "\n",
    "if __name__ == \"__main__\":\n",
    "    eval()"
   ]
  },
  {
   "cell_type": "code",
   "execution_count": null,
   "metadata": {
    "id": "DCjtCvcJR3Rd"
   },
   "outputs": [],
   "source": []
  }
 ],
 "metadata": {
  "accelerator": "GPU",
  "colab": {
   "collapsed_sections": [],
   "name": "ML_DenseNet",
   "provenance": [
    {
     "file_id": "1zeOe46487dG7iM-XlMSXm3sXqLvHNAlv",
     "timestamp": 1606092267271
    },
    {
     "file_id": "1yab9NRRGXE9fuOidQgC49RHsIWAiYADr",
     "timestamp": 1605954490139
    },
    {
     "file_id": "1LC3TgTUcHKMDzjPnj882fTm1IqJTGfdk",
     "timestamp": 1603963113426
    }
   ]
  },
  "kernelspec": {
   "display_name": "Python 3",
   "language": "python",
   "name": "python3"
  },
  "language_info": {
   "codemirror_mode": {
    "name": "ipython",
    "version": 3
   },
   "file_extension": ".py",
   "mimetype": "text/x-python",
   "name": "python",
   "nbconvert_exporter": "python",
   "pygments_lexer": "ipython3",
   "version": "3.8.5"
  }
 },
 "nbformat": 4,
 "nbformat_minor": 1
}
